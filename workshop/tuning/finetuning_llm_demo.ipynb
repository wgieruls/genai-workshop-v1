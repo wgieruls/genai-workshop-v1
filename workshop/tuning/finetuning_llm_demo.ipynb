{
  "cells": [
    {
      "cell_type": "code",
      "execution_count": null,
      "metadata": {
        "id": "CjSKQXnO-W8u"
      },
      "outputs": [],
      "source": [
        "!pip3 install torch torchvision torchaudio --index-url https://download.pytorch.org/whl/cu118\n",
        "!pip install transformers[torch]\n",
        "!pip install einops"
      ]
    },
    {
      "cell_type": "code",
      "execution_count": null,
      "metadata": {
        "id": "M_ZD36v-z3zg"
      },
      "outputs": [],
      "source": [
        "import torch\n",
        "import transformers\n",
        "import matplotlib.pyplot as plt\n",
        "import numpy as np"
      ]
    },
    {
      "cell_type": "code",
      "execution_count": null,
      "metadata": {
        "id": "m7tVJ5eq-TRp"
      },
      "outputs": [],
      "source": [
        "model = transformers.AutoModelForCausalLM.from_pretrained('tiiuae/falcon-rw-1b',\n",
        "  trust_remote_code=True,\n",
        "  torch_dtype=torch.bfloat16,\n",
        ")\n",
        "model.eval()\n",
        "model.to(\"cuda\")"
      ]
    },
    {
      "cell_type": "code",
      "execution_count": null,
      "metadata": {
        "id": "ZijRGJEA_Pzx"
      },
      "outputs": [],
      "source": [
        "model_size = sum([t.numel() for t in model.parameters()])\n",
        "print(f\"Modelsize: {model_size/1_000**2:.2f} M parameters\")"
      ]
    },
    {
      "cell_type": "code",
      "execution_count": null,
      "metadata": {
        "id": "5n1fuzkaBR7R"
      },
      "outputs": [],
      "source": [
        "tokenizer = transformers.AutoTokenizer.from_pretrained('tiiuae/falcon-rw-1b')"
      ]
    },
    {
      "cell_type": "code",
      "execution_count": null,
      "metadata": {
        "id": "LxIqcueBB2PC"
      },
      "outputs": [],
      "source": [
        "text = \"My hobby is\".strip()"
      ]
    },
    {
      "cell_type": "markdown",
      "metadata": {
        "id": "rc_HzUFsEEFu"
      },
      "source": [
        "*Encode* text to tokens"
      ]
    },
    {
      "cell_type": "code",
      "execution_count": null,
      "metadata": {
        "id": "SeY4hY_OC5HP"
      },
      "outputs": [],
      "source": [
        "tokenized_text = tokenizer(text, return_tensors='pt')\n",
        "tokenized_text['input_ids']"
      ]
    },
    {
      "cell_type": "markdown",
      "metadata": {
        "id": "z8J7aH7sEGWI"
      },
      "source": [
        "Decode tokens to text"
      ]
    },
    {
      "cell_type": "code",
      "execution_count": null,
      "metadata": {
        "id": "BYhBG-8CDLX9"
      },
      "outputs": [],
      "source": [
        "tokenizer.batch_decode(tokenized_text['input_ids'])"
      ]
    },
    {
      "cell_type": "markdown",
      "metadata": {
        "id": "fGQE-IkWjHZ3"
      },
      "source": [
        "predict next word"
      ]
    },
    {
      "cell_type": "code",
      "execution_count": null,
      "metadata": {
        "id": "bAfPQLILjG7A"
      },
      "outputs": [],
      "source": [
        "# take the top 10 next word probabilities\n",
        "logits = model(**tokenized_text.to('cuda')).logits[0][-1,:].detach().cpu().to(torch.float32)\n",
        "top10 = torch.nn.functional.softmax(logits).topk(10)\n",
        "words = tokenizer.batch_decode(top10.indices)\n",
        "probabilities = top10.values * 100"
      ]
    },
    {
      "cell_type": "code",
      "execution_count": null,
      "metadata": {
        "id": "eFZmJJ4kmHM6"
      },
      "outputs": [],
      "source": [
        "plt.style.use('seaborn')\n",
        "plt.figure()\n",
        "plt.barh(np.arange(0, 10), probabilities)\n",
        "plt.title(\"top 10 most probable words\")\n",
        "plt.yticks(np.arange(0,10), words)\n",
        "plt.xlabel(\"[%]\")\n",
        "plt.show()"
      ]
    },
    {
      "cell_type": "code",
      "execution_count": null,
      "metadata": {
        "id": "rSAR-xayDW47"
      },
      "outputs": [],
      "source": [
        "outputs = model.generate(**tokenized_text.to('cuda'), max_new_tokens=64, top_k=35, top_p=0.95, do_sample=True)"
      ]
    },
    {
      "cell_type": "markdown",
      "metadata": {
        "id": "7c3n_ll-FBq6"
      },
      "source": [
        "outputs are tokens so we have to decode them"
      ]
    },
    {
      "cell_type": "code",
      "execution_count": null,
      "metadata": {
        "id": "Kdc-gOSEE8aH"
      },
      "outputs": [],
      "source": [
        "outputs"
      ]
    },
    {
      "cell_type": "code",
      "execution_count": null,
      "metadata": {
        "id": "mGBCAj9ME_f9"
      },
      "outputs": [],
      "source": [
        "print(\"\".join(tokenizer.batch_decode(outputs[0])))"
      ]
    },
    {
      "cell_type": "markdown",
      "metadata": {
        "id": "yLmwKAHXL_8z"
      },
      "source": [
        "before training set only small amount of parameters to be trainable"
      ]
    },
    {
      "cell_type": "code",
      "execution_count": null,
      "metadata": {
        "id": "tgfbQKlDMD0y"
      },
      "outputs": [],
      "source": [
        "for name, param in model.named_parameters():\n",
        "    print(f\"{name}   Size: {param.numel()/1000**2:.1f}M parameters\")\n",
        "    if '23' not in name:\n",
        "      param.requires_grad = False\n",
        "    print(name, param.requires_grad)"
      ]
    },
    {
      "cell_type": "code",
      "execution_count": null,
      "metadata": {
        "id": "S2wPgnKBMfVE"
      },
      "outputs": [],
      "source": [
        "trainable_params = 0\n",
        "for name, param in model.named_parameters():\n",
        "    if '23' in name:\n",
        "      trainable_params += param.numel()\n",
        "\n",
        "print(f\" Trainable params: {trainable_params/1000**2:.1f}M parameters\")\n"
      ]
    },
    {
      "cell_type": "markdown",
      "metadata": {
        "id": "y1ZrxewwNlxF"
      },
      "source": [
        "perpare \"training set\""
      ]
    },
    {
      "cell_type": "code",
      "execution_count": null,
      "metadata": {
        "id": "7k_8Sx4tFeSY"
      },
      "outputs": [],
      "source": [
        "train_set = [\"I read all kinds of books. I really like crime stories and sci-fi novels.\",\n",
        "             \"I read books all the time.\",\n",
        "             \"Reading books is my favourite activity.\"]"
      ]
    },
    {
      "cell_type": "code",
      "source": [
        "tokenizer.pad_token = tokenizer.eos_token"
      ],
      "metadata": {
        "id": "bur16Quq3Qnj"
      },
      "execution_count": null,
      "outputs": []
    },
    {
      "cell_type": "code",
      "execution_count": null,
      "metadata": {
        "id": "vAnXkiyVK2am"
      },
      "outputs": [],
      "source": [
        "tokenized_train_set = tokenizer(train_set, return_tensors='pt', padding=True)"
      ]
    },
    {
      "cell_type": "code",
      "execution_count": null,
      "metadata": {
        "id": "HbviX6mnbYTI"
      },
      "outputs": [],
      "source": [
        "model.train()"
      ]
    },
    {
      "cell_type": "code",
      "execution_count": null,
      "metadata": {
        "id": "pTutn42ipSWO"
      },
      "outputs": [],
      "source": [
        "lossf = torch.nn.CrossEntropyLoss(ignore_index=tokenizer.pad_token_id)\n",
        "optimizer = torch.optim.AdamW(model.parameters(), lr=3e-4)"
      ]
    },
    {
      "cell_type": "code",
      "execution_count": null,
      "metadata": {
        "id": "RZ1D-fN3aSLo"
      },
      "outputs": [],
      "source": [
        "outputs = model(**tokenized_train_set.to(\"cuda\"))"
      ]
    },
    {
      "cell_type": "code",
      "execution_count": null,
      "metadata": {
        "id": "fYPYkm5kOa5P"
      },
      "outputs": [],
      "source": [
        "logits = outputs.logits\n",
        "B, T, C = logits.shape\n",
        "logits = logits.view(B*T, C)\n",
        "\n",
        "targets = tokenized_train_set['input_ids'].roll(-1)\n",
        "targets[:,-1] = tokenizer.pad_token_id\n",
        "targets = targets.view(B*T)\n",
        "\n",
        "loss = lossf(logits, targets)\n",
        "loss.item()"
      ]
    },
    {
      "cell_type": "code",
      "execution_count": null,
      "metadata": {
        "id": "fTOXW3Y9cOJ-"
      },
      "outputs": [],
      "source": [
        "loss.backward()\n",
        "optimizer.step()\n",
        "optimizer.zero_grad()"
      ]
    },
    {
      "cell_type": "code",
      "execution_count": null,
      "metadata": {
        "id": "hDGZhYbA6p-S"
      },
      "outputs": [],
      "source": [
        "outputs = model(**tokenized_train_set.to(\"cuda\"))"
      ]
    },
    {
      "cell_type": "code",
      "execution_count": null,
      "metadata": {
        "id": "mHl1k1QKOa5Q"
      },
      "outputs": [],
      "source": [
        "logits = outputs.logits\n",
        "B, T, C = logits.shape\n",
        "logits = logits.view(B*T, C)\n",
        "\n",
        "targets = tokenized_train_set['input_ids'].roll(-1)\n",
        "targets[:,-1] = tokenizer.pad_token_id\n",
        "targets = targets.view(B*T)\n",
        "\n",
        "loss = lossf(logits, targets)\n",
        "loss.item()"
      ]
    },
    {
      "cell_type": "code",
      "execution_count": null,
      "metadata": {
        "id": "TIxjDHzkqITc"
      },
      "outputs": [],
      "source": [
        "model.eval()"
      ]
    },
    {
      "cell_type": "code",
      "execution_count": null,
      "metadata": {
        "id": "wf0X4GF4s5oG"
      },
      "outputs": [],
      "source": [
        "logits = model(**tokenized_text.to('cuda')).logits[0][-1,:].detach().cpu().to(torch.float32)\n",
        "top10 = torch.nn.functional.softmax(logits).topk(10)\n",
        "words = tokenizer.batch_decode(top10.indices)\n",
        "probabilities = top10.values * 100"
      ]
    },
    {
      "cell_type": "code",
      "execution_count": null,
      "metadata": {
        "id": "MOZzsAIOtAQn"
      },
      "outputs": [],
      "source": [
        "plt.style.use('seaborn')\n",
        "plt.figure()\n",
        "plt.barh(np.arange(0, 10), probabilities)\n",
        "plt.title(\"top 10 most probable words\")\n",
        "plt.yticks(np.arange(0,10), words)\n",
        "plt.xlabel(\"[%]\")\n",
        "plt.show()"
      ]
    },
    {
      "cell_type": "code",
      "execution_count": null,
      "metadata": {
        "id": "OuYcjz-EOa5Q"
      },
      "outputs": [],
      "source": [
        "outputs = model.generate(**tokenized_text.to('cuda'), max_new_tokens=64, top_k=35, top_p=0.95, do_sample=True)"
      ]
    },
    {
      "cell_type": "code",
      "source": [
        "tokenizer.batch_decode(outputs)"
      ],
      "metadata": {
        "id": "K_5X4ewNSgWc"
      },
      "execution_count": null,
      "outputs": []
    },
    {
      "cell_type": "code",
      "source": [],
      "metadata": {
        "id": "3py40yM04q38"
      },
      "execution_count": null,
      "outputs": []
    }
  ],
  "metadata": {
    "accelerator": "GPU",
    "colab": {
      "gpuType": "T4",
      "provenance": []
    },
    "environment": {
      "kernel": "python3",
      "name": "tf2-gpu.2-11.m110",
      "type": "gcloud",
      "uri": "gcr.io/deeplearning-platform-release/tf2-gpu.2-11:m110"
    },
    "kernelspec": {
      "display_name": "Python 3",
      "name": "python3"
    },
    "language_info": {
      "codemirror_mode": {
        "name": "ipython",
        "version": 3
      },
      "file_extension": ".py",
      "mimetype": "text/x-python",
      "name": "python",
      "nbconvert_exporter": "python",
      "pygments_lexer": "ipython3",
      "version": "3.10.12"
    }
  },
  "nbformat": 4,
  "nbformat_minor": 0
}