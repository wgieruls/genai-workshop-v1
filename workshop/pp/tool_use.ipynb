{
 "cells": [
  {
   "cell_type": "code",
   "execution_count": null,
   "id": "d67bdf4d-0495-4e45-97a1-5430e91f6794",
   "metadata": {},
   "outputs": [],
   "source": [
    "from langchain.llms import VertexAI\n",
    "import re\n",
    "from math import pi"
   ]
  },
  {
   "cell_type": "code",
   "execution_count": null,
   "id": "294c0245-c28c-4e66-8111-1c69be0aa693",
   "metadata": {},
   "outputs": [],
   "source": [
    "llm = VertexAI(temperature=0, max_output_tokens=1024, model_name=\"text-bison@001\")"
   ]
  },
  {
   "cell_type": "markdown",
   "id": "ce2a1b00-4047-40b9-98d1-e01bd835044a",
   "metadata": {},
   "source": [
    "### Without calculator"
   ]
  },
  {
   "cell_type": "code",
   "execution_count": null,
   "id": "9fe465b5-615a-4fbf-84a4-0679cad140d2",
   "metadata": {},
   "outputs": [],
   "source": [
    "response = llm(\"Jaka jest objętość kuli o promieniu 2m?\")\n",
    "print(response)"
   ]
  },
  {
   "cell_type": "markdown",
   "id": "1ef8b0c2-f65c-47b4-a3a1-ef86361bbefd",
   "metadata": {},
   "source": [
    "### With calculator"
   ]
  },
  {
   "cell_type": "code",
   "execution_count": null,
   "id": "012019ff-99ff-4dc9-abcd-3b710e139034",
   "metadata": {},
   "outputs": [],
   "source": [
    "prompt = f\"\"\"\n",
    "You are very bad at counting. Whenever you have to count something don't count it by yourself. Use use a calculator instead. To use a calculator write:\n",
    "Calculator[<expression>]. <expression> will be parsed by python interpreter so it must be correct.\n",
    "\n",
    "Example:\n",
    "User message: How US population increased since 2020?\n",
    "The population of the US was 200 million in 2020, and 300 million in 2023. This means that it has increased by Calculator[300e6/200e6*100] %.\n",
    "\"\"\""
   ]
  },
  {
   "cell_type": "code",
   "execution_count": null,
   "id": "b71c8ddf-f48b-4f8b-a37f-de69f6ad1d70",
   "metadata": {},
   "outputs": [],
   "source": [
    "def parse(response):\n",
    "    result = re.search(\"Calculator\\[.*\\]\", response)\n",
    "    try:\n",
    "        calc = eval(result[0].split('[')[-1][0:-1])\n",
    "        return response.replace(result[0], str(calc))\n",
    "    except Exception as e:\n",
    "        print(e)\n",
    "        return response"
   ]
  },
  {
   "cell_type": "code",
   "execution_count": null,
   "id": "864adbad-183a-4903-9118-c95d14e31db7",
   "metadata": {},
   "outputs": [],
   "source": [
    "response = llm(prompt + \"Jaka jest objętość kuli o promieniu 2m?\")\n",
    "print(response)"
   ]
  },
  {
   "cell_type": "code",
   "execution_count": null,
   "id": "38717e8a-4b44-4528-b362-00f5e036005a",
   "metadata": {},
   "outputs": [],
   "source": [
    "print(parse(response))"
   ]
  },
  {
   "cell_type": "code",
   "execution_count": null,
   "id": "69b073cf-3e27-47ba-9463-485a9f6ad989",
   "metadata": {},
   "outputs": [],
   "source": []
  }
 ],
 "metadata": {
  "environment": {
   "kernel": "python3",
   "name": "tf2-gpu.2-11.m110",
   "type": "gcloud",
   "uri": "gcr.io/deeplearning-platform-release/tf2-gpu.2-11:m110"
  },
  "kernelspec": {
   "display_name": "Python 3",
   "language": "python",
   "name": "python3"
  },
  "language_info": {
   "codemirror_mode": {
    "name": "ipython",
    "version": 3
   },
   "file_extension": ".py",
   "mimetype": "text/x-python",
   "name": "python",
   "nbconvert_exporter": "python",
   "pygments_lexer": "ipython3",
   "version": "3.10.12"
  }
 },
 "nbformat": 4,
 "nbformat_minor": 5
}
