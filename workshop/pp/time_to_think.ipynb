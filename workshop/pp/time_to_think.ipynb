{
 "cells": [
  {
   "cell_type": "code",
   "execution_count": null,
   "id": "5411a74b-885b-4548-ba81-6fe3706c8b41",
   "metadata": {},
   "outputs": [],
   "source": [
    "from vertexai.language_models import TextGenerationModel"
   ]
  },
  {
   "cell_type": "code",
   "execution_count": null,
   "id": "4a330526-76de-4d30-a3c4-06000cc3d143",
   "metadata": {},
   "outputs": [],
   "source": [
    "model = TextGenerationModel.from_pretrained(\"text-bison\")"
   ]
  },
  {
   "cell_type": "code",
   "execution_count": null,
   "id": "9b8ff549-632c-4ac6-b178-a93622392912",
   "metadata": {},
   "outputs": [],
   "source": [
    "def predict(prompt):\n",
    "    return model.predict(prompt, temperature=0, max_output_tokens=1024)"
   ]
  },
  {
   "cell_type": "code",
   "execution_count": null,
   "id": "3191e914-1134-43e3-940b-db53250b054b",
   "metadata": {},
   "outputs": [],
   "source": [
    "task = \"\"\"\n",
    "Zadanie:\n",
    "\n",
    "W sklepie z zabawkami jest 100 klocków.\n",
    "W pierwszym tygodniu sprzedano 1/2 wszystkich klocków, a w drugim tygodniu 1/5 pozostałych po pierwszym tygodniu klocków.\n",
    "Ile klocków sprzedano?\n",
    "\"\"\""
   ]
  },
  {
   "cell_type": "code",
   "execution_count": null,
   "id": "42178b97-6af1-4d8e-9569-84cb8a5aae9f",
   "metadata": {},
   "outputs": [],
   "source": [
    "solution = \"\"\"\n",
    "W pierwszym tygodniu sprzedano 100 : 2 = 50 klocków.\n",
    "W drugim tygodniu sprzedano 100 : 5 = 20 klocków.\n",
    "Łącznie w dwóch tygodniach sprzedano 20 + 50 = 70 klocków.\n",
    "Odpowiedź: 70.\n",
    "\"\"\""
   ]
  },
  {
   "cell_type": "markdown",
   "id": "6347cdb0-8bec-4c0f-98d5-111f2e020179",
   "metadata": {},
   "source": [
    "### Without time to think"
   ]
  },
  {
   "cell_type": "code",
   "execution_count": null,
   "id": "746af286-2f14-4d70-8103-27ea6659c382",
   "metadata": {},
   "outputs": [],
   "source": [
    "prompt = f\"\"\"\n",
    "Jesteś ekspertem matematyki. Musisz udzielać tylko poprawnych odpowiedzi.\n",
    "Poniżej znajduje się zadanie oraz przykładowe rozwiązanie ucznia.\n",
    "```\n",
    "{task}\n",
    "```\n",
    "\n",
    "```\n",
    "{solution}\n",
    "```\n",
    "Czy rozwiązanie ucznia jest poprawne?\n",
    "\n",
    "Odpowiedź: \n",
    "\"\"\""
   ]
  },
  {
   "cell_type": "code",
   "execution_count": null,
   "id": "6221c3e8-d447-41be-bd04-4f612d6faba0",
   "metadata": {},
   "outputs": [],
   "source": [
    "print(prompt)"
   ]
  },
  {
   "cell_type": "code",
   "execution_count": null,
   "id": "eee03afe-8b25-4acd-bc8d-86406ec96cb6",
   "metadata": {},
   "outputs": [],
   "source": [
    "print(predict(prompt))"
   ]
  },
  {
   "cell_type": "markdown",
   "id": "796af6f1-81b1-4f5f-a4a0-56538cab6339",
   "metadata": {},
   "source": [
    "### With time to think"
   ]
  },
  {
   "cell_type": "code",
   "execution_count": null,
   "id": "845e858a-28a6-49ed-948f-d3bb26485aa6",
   "metadata": {},
   "outputs": [],
   "source": [
    "palm_solution = predict(task)\n",
    "print(palm_solution)"
   ]
  },
  {
   "cell_type": "code",
   "execution_count": null,
   "id": "e468db07-2a2b-4bb1-aeb5-f0dc36b07b86",
   "metadata": {},
   "outputs": [],
   "source": [
    "prompt = f\"\"\"\n",
    "Zadanie: \n",
    "{task}\n",
    "\n",
    "Odpowiedź ucznia:\n",
    "{solution}\n",
    "\n",
    "Odpowiedź nauczyciela:\n",
    "{palm_solution}\n",
    "\n",
    "Porównaj te dwa rozwiązania i powiedz czy rozwiązanie ucznia jest zgodnie z rozwiązaniem nauczyciela.\n",
    "Jeżeli nie to wyjaśnij bardzo szczegółowo na czym polega błąd.\n",
    "\"\"\""
   ]
  },
  {
   "cell_type": "code",
   "execution_count": null,
   "id": "b84a2a68-93a4-4218-a0a4-d468c5186de0",
   "metadata": {},
   "outputs": [],
   "source": [
    "print(predict(prompt))"
   ]
  },
  {
   "cell_type": "code",
   "execution_count": null,
   "id": "96724d1b-c9eb-4d4b-83f2-6935394d3161",
   "metadata": {},
   "outputs": [],
   "source": []
  }
 ],
 "metadata": {
  "environment": {
   "kernel": "python3",
   "name": "tf2-gpu.2-11.m110",
   "type": "gcloud",
   "uri": "gcr.io/deeplearning-platform-release/tf2-gpu.2-11:m110"
  },
  "kernelspec": {
   "display_name": "Python 3",
   "language": "python",
   "name": "python3"
  },
  "language_info": {
   "codemirror_mode": {
    "name": "ipython",
    "version": 3
   },
   "file_extension": ".py",
   "mimetype": "text/x-python",
   "name": "python",
   "nbconvert_exporter": "python",
   "pygments_lexer": "ipython3",
   "version": "3.10.12"
  }
 },
 "nbformat": 4,
 "nbformat_minor": 5
}
