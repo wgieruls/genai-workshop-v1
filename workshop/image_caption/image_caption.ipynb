{
  "cells": [
    {
      "cell_type": "markdown",
      "metadata": {
        "jp-MarkdownHeadingCollapsed": true,
        "tags": [],
        "id": "KreHY65OXEzQ"
      },
      "source": [
        "#### Image captioning\n",
        "\n",
        "<font size = 3><span style = \"color:#3A3E59;font-family:'Times New Roman'\">Image Captioning is the task of describing the content of an image in words. This task lies at the intersection of computer vision and natural language processing. Most image captioning systems use an encoder-decoder framework, where an input image is encoded into an intermediate representation of the information in the image, and then decoded into a descriptive text sequence.</span></font>\n",
        "<br>\n",
        "\n",
        "<img src=\"https://raw.githubusercontent.com/danieljl/keras-image-captioning/master/results-without-errors.jpg\">\n",
        "\n"
      ]
    },
    {
      "cell_type": "markdown",
      "metadata": {
        "tags": [],
        "id": "kgKJJggEXEzT"
      },
      "source": [
        "# Table of contents\n",
        "\n",
        "\n",
        "- [1. Imports](#1)\n",
        "- [2. Hyperparameters](#2)\n",
        "- [3. Dataset](#3)\n",
        "  * .[3.1 Feature Extractor and Tokenizer](#3.1)\n",
        "  * [3.2 Transforms and dataframe](#3.2)\n",
        "  * [3.3 Dataset Class](#3.3)\n",
        "  * .[3.4 Train and validation dataset](#3.4)\n",
        "- [4. Model Building](#4)\n",
        "    * .[4.1 Model Initialization](#4.1)\n",
        "- [5. Training](#5)\n",
        "    * .[5.1 Training Arguments](#5.1)\n",
        "    * .[5.2 Training using Seq2SeqTrainer](#5.2)\n",
        "- .[6. Predictions](#6)"
      ]
    },
    {
      "cell_type": "code",
      "execution_count": null,
      "metadata": {
        "id": "nt5gtl6GXEzU"
      },
      "outputs": [],
      "source": [
        "!pip3 install torch torchvision torchaudio --index-url https://download.pytorch.org/whl/cu118"
      ]
    },
    {
      "cell_type": "code",
      "execution_count": null,
      "metadata": {
        "_cell_guid": "b1076dfc-b9ad-4769-8c92-a6c4dae69d19",
        "_kg_hide-input": true,
        "_uuid": "8f2839f25d086af736a60e9eeb907d3b93b6e0e5",
        "tags": [],
        "id": "dJ4To-3oXEzV"
      },
      "outputs": [],
      "source": [
        "from IPython.display import clear_output\n",
        "!pip install deep-phonemizer\n",
        "!pip install transformers[torch]\n",
        "!pip install datasets\n",
        "!pip install google-cloud-storage"
      ]
    },
    {
      "cell_type": "markdown",
      "metadata": {
        "tags": [],
        "id": "t-hoN2p2XEzV"
      },
      "source": [
        "# <a id='1'></a>1. Imports"
      ]
    },
    {
      "cell_type": "code",
      "execution_count": null,
      "metadata": {
        "_kg_hide-input": true,
        "tags": [],
        "id": "WKGU1i-_XEzW"
      },
      "outputs": [],
      "source": [
        "import os\n",
        "\n",
        "import datasets\n",
        "import numpy as np\n",
        "import pandas as pd\n",
        "from PIL import Image\n",
        "from pathlib import Path\n",
        "from tqdm.auto import tqdm\n",
        "import multiprocessing as mp\n",
        "import matplotlib.pyplot as plt\n",
        "from sklearn.model_selection import train_test_split\n",
        "\n",
        "import torchvision\n",
        "import torch\n",
        "import torch.nn as nn\n",
        "import torch.nn.functional as F\n",
        "from torchvision import io, transforms\n",
        "from torch.utils.data import Dataset, DataLoader, random_split\n",
        "\n",
        "from transformers import Seq2SeqTrainer ,Seq2SeqTrainingArguments\n",
        "from transformers import VisionEncoderDecoderModel , ViTFeatureExtractor, AutoFeatureExtractor\n",
        "from transformers import AutoTokenizer ,  GPT2Config , default_data_collator\n",
        "\n",
        "\n",
        "if torch.cuda.is_available():\n",
        "\n",
        "    device = torch.device(\"cuda\")\n",
        "\n",
        "    print('There are %d GPU(s) available.' % torch.cuda.device_count())\n",
        "\n",
        "    print('We will use the GPU:', torch.cuda.get_device_name(0))\n",
        "\n",
        "else:\n",
        "    print('No GPU available, using the CPU instead.')\n",
        "    device = torch.device(\"cpu\")"
      ]
    },
    {
      "cell_type": "markdown",
      "metadata": {
        "id": "Eh8x20tLXEzX"
      },
      "source": [
        "<a id=\"2\"></a>\n",
        "# 2. Hyperparameters"
      ]
    },
    {
      "cell_type": "code",
      "execution_count": null,
      "metadata": {
        "_kg_hide-input": false,
        "tags": [],
        "id": "7evajCGBXEzY"
      },
      "outputs": [],
      "source": [
        "class config :\n",
        "    ENCODER = \"google/vit-base-patch16-224-in21k\"\n",
        "    DECODER = \"gpt2\"\n",
        "    TRAIN_BATCH_SIZE = 20\n",
        "    VAL_BATCH_SIZE = 20\n",
        "    LR = 3e-4\n",
        "    MAX_LEN = 128\n",
        "    EPOCHS = 2\n",
        "    IMG_SIZE = (224,224)"
      ]
    },
    {
      "cell_type": "markdown",
      "metadata": {
        "id": "KL1s6jVSXEzY"
      },
      "source": [
        "<a id=\"3\"></a>\n",
        "# 3. Dataset"
      ]
    },
    {
      "cell_type": "code",
      "execution_count": null,
      "metadata": {
        "id": "oqHa9nt0XEzZ"
      },
      "outputs": [],
      "source": [
        "!wget https://storage.googleapis.com/gen-ai-workshop-1/dataset.zip\n",
        "!unzip -q dataset.zip -d dataset"
      ]
    },
    {
      "cell_type": "markdown",
      "metadata": {
        "id": "_zRS4hphXEzZ"
      },
      "source": [
        "<a id=\"3.1\"></a>\n",
        "## 3.1 Feature Extractor and Tokenizer"
      ]
    },
    {
      "cell_type": "markdown",
      "metadata": {
        "id": "Ty0j0HeCXEzZ"
      },
      "source": [
        "1. <font size = 3><span style=\"color:#3A3E59;font-family:'Times New Roman'\"> The Feature extractor is loaded using <b>ViTFeatureExtractor</b>  </span></font>\n",
        "2. <font size = 3><span style=\"color:#3A3E59;font-family:'Times New Roman'\">The tokenizer for GPT2 is loaded using the <b>AutoTokenizer</b>  </span></font>"
      ]
    },
    {
      "cell_type": "code",
      "execution_count": null,
      "metadata": {
        "_kg_hide-input": true,
        "tags": [],
        "id": "LIhgIbtoXEzZ"
      },
      "outputs": [],
      "source": [
        "feature_extractor = AutoFeatureExtractor.from_pretrained(config.ENCODER)\n",
        "tokenizer = AutoTokenizer.from_pretrained(config.DECODER)\n",
        "tokenizer.pad_token = tokenizer.eos_token"
      ]
    },
    {
      "cell_type": "markdown",
      "metadata": {
        "id": "2maAHLJ2XEza"
      },
      "source": [
        "<a id=\"3.2\"></a>\n",
        "## 3.2 Transforms and dataframe"
      ]
    },
    {
      "cell_type": "code",
      "execution_count": null,
      "metadata": {
        "_kg_hide-input": true,
        "tags": [],
        "id": "zwetQfKhXEza"
      },
      "outputs": [],
      "source": [
        "df = pd.read_csv(\"dataset/captions.txt\")\n",
        "train_image_names, test_image_names = train_test_split(df['image'].unique(), test_size=0.2)\n",
        "train_df = df[ df['image'].isin(train_image_names) ]\n",
        "val_df = df[ df['image'].isin(test_image_names) ]\n",
        "train_df.sample(10)"
      ]
    },
    {
      "cell_type": "markdown",
      "metadata": {
        "id": "p1FxWFtGXEza"
      },
      "source": [
        "<a id=\"3.3\"></a>\n",
        "## 3.3 Dataset Class"
      ]
    },
    {
      "cell_type": "markdown",
      "metadata": {
        "id": "POBuUFtqXEza"
      },
      "source": [
        "The dataset is created using the following steps:\n",
        "1. We read image using the PIL library\n",
        "2. The image is transformed using feature extractor\n",
        "3. The captions are loaded from the dataframe\n",
        "4. The captions are tokenized\n",
        "5. The tokenized captions are padded to max length\n",
        "6. The images and tokenized captions are returned"
      ]
    },
    {
      "cell_type": "code",
      "execution_count": null,
      "metadata": {
        "_kg_hide-input": false,
        "tags": [],
        "id": "M0o-yf0OXEza"
      },
      "outputs": [],
      "source": [
        "import time\n",
        "class ImgDataset(Dataset):\n",
        "    def __init__(self, df,root_dir,tokenizer,feature_extractor, custom_verbose = False):\n",
        "        self.df = df\n",
        "        self.custom_verbose = custom_verbose\n",
        "        self.root_dir = root_dir\n",
        "        self.tokenizer= tokenizer\n",
        "        self.feature_extractor = feature_extractor\n",
        "        self.max_length = 50\n",
        "\n",
        "    def __len__(self,):\n",
        "        return len(self.df)\n",
        "\n",
        "    def __getitem__(self,idx):\n",
        "        caption = self.df.caption.iloc[idx]\n",
        "        image = self.df.image.iloc[idx]\n",
        "        img_path = os.path.join(self.root_dir , image)\n",
        "        img = Image.open(img_path).convert(\"RGB\")\n",
        "        pixel_values = self.feature_extractor(img, return_tensors=\"pt\").pixel_values\n",
        "        captions = self.tokenizer(caption, padding='max_length', max_length=self.max_length).input_ids\n",
        "        eos_idx = captions.index(tokenizer.pad_token_id)\n",
        "        captions = [caption if caption != self.tokenizer.pad_token_id else -100 for caption in captions]\n",
        "        captions[eos_idx] = self.tokenizer.pad_token_id\n",
        "        encoding = {\"pixel_values\": pixel_values.squeeze(), \"labels\": torch.tensor(captions)}\n",
        "        return encoding"
      ]
    },
    {
      "cell_type": "markdown",
      "metadata": {
        "id": "e7_xwoXDXEzb"
      },
      "source": [
        "<a id=\"3.4\"></a>\n",
        "## 3.4 Train and validation dataset"
      ]
    },
    {
      "cell_type": "code",
      "execution_count": null,
      "metadata": {
        "_kg_hide-input": true,
        "tags": [],
        "id": "igOwkAzvXEzb"
      },
      "outputs": [],
      "source": [
        "train_dataset = ImgDataset(train_df, root_dir = \"dataset/Images\",tokenizer=tokenizer,feature_extractor = feature_extractor)\n",
        "val_dataset = ImgDataset(val_df , root_dir = \"dataset/Images\",tokenizer=tokenizer,feature_extractor = feature_extractor)"
      ]
    },
    {
      "cell_type": "markdown",
      "metadata": {
        "tags": [],
        "id": "7KbEYlpzXEzb"
      },
      "source": [
        "<a id=\"4\"></a>\n",
        "# 4. MODEL BUILDING"
      ]
    },
    {
      "cell_type": "markdown",
      "metadata": {
        "id": "LcO-Zlk7XEzb"
      },
      "source": [
        "**ENCODER**\n",
        "\n",
        "<img src = \"https://production-media.paperswithcode.com/methods/Screen_Shot_2021-01-26_at_9.43.31_PM_uI4jjMq.png\">\n",
        "\n",
        "The Vision Transformer, or ViT, is a model for image classification that employs a Transformer-like architecture over patches of the image. An image is split into fixed-size patches, each of them are then linearly embedded, position embeddings are added, and the resulting sequence of vectors is fed to a standard Transformer encoder. In order to perform classification, the standard approach of adding an extra learnable “classification token” to the sequence is used.</span></font>"
      ]
    },
    {
      "cell_type": "markdown",
      "metadata": {
        "id": "AnpJVzKAXEzc"
      },
      "source": [
        "**DECODER**\n",
        "\n",
        "<img src = \"https://i.stack.imgur.com/7J4O7.png\" >\n",
        "\n",
        "\n",
        "GPT-2 is a transformers model pretrained on a very large corpus of English data in a self-supervised fashion. inputs are sequences of continuous text of a certain length and the targets are the same sequence, shifted one token (word or piece of word) to the right. The model uses internally a mask-mechanism to make sure the predictions for the token i only uses the inputs from 1 to i but not the future tokens.\n",
        "    \n",
        "This way, the model learns an inner representation of the English language that can then be used to extract features useful for downstream tasks. The model is best at what it was pretrained for however, which is generating texts from a prompt.\n",
        "    "
      ]
    },
    {
      "cell_type": "markdown",
      "metadata": {
        "id": "x205984KXEzc"
      },
      "source": [
        "<a id=\"4.1\"></a>\n",
        "## 4.1 Model Initialization"
      ]
    },
    {
      "cell_type": "code",
      "execution_count": null,
      "metadata": {
        "_kg_hide-input": false,
        "_kg_hide-output": true,
        "tags": [],
        "id": "4TYprpqIXEzc"
      },
      "outputs": [],
      "source": [
        "model = VisionEncoderDecoderModel.from_encoder_decoder_pretrained(config.ENCODER, config.DECODER).to(device)"
      ]
    },
    {
      "cell_type": "code",
      "execution_count": null,
      "metadata": {
        "_kg_hide-input": true,
        "id": "TxJUje4UXEzc"
      },
      "outputs": [],
      "source": [
        "model.config.decoder_start_token_id = tokenizer.bos_token_id\n",
        "model.config.eos_token_id = tokenizer.eos_token_id\n",
        "model.config.pad_token_id = tokenizer.pad_token_id\n",
        "model.config.vocab_size = model.config.decoder.vocab_size"
      ]
    },
    {
      "cell_type": "markdown",
      "metadata": {
        "id": "6JJ6ODpNXEzc"
      },
      "source": [
        "<a id=\"5\"></a>\n",
        "# 5. TRAINING"
      ]
    },
    {
      "cell_type": "markdown",
      "metadata": {
        "id": "wMJX7JE8XEzc"
      },
      "source": [
        "<a id=\"5.1\"></a>\n",
        "### 5.1 Training Arguments\n"
      ]
    },
    {
      "cell_type": "code",
      "execution_count": null,
      "metadata": {
        "_kg_hide-input": true,
        "tags": [],
        "id": "1TcPKkS0XEzd"
      },
      "outputs": [],
      "source": [
        "training_args = Seq2SeqTrainingArguments(\n",
        "    output_dir='VIT_large_gpt2',\n",
        "    per_device_train_batch_size=config.TRAIN_BATCH_SIZE,\n",
        "    per_device_eval_batch_size=config.VAL_BATCH_SIZE,\n",
        "    predict_with_generate=False,\n",
        "    evaluation_strategy=\"epoch\",\n",
        "    save_steps=2048,\n",
        "    warmup_steps=128,\n",
        "    learning_rate = config.LR,\n",
        "    num_train_epochs = config.EPOCHS,\n",
        "    overwrite_output_dir=True,\n",
        "    save_total_limit=1,\n",
        "    weight_decay=0.01\n",
        ")"
      ]
    },
    {
      "cell_type": "code",
      "execution_count": null,
      "metadata": {
        "id": "KStqBv8ZXEzd"
      },
      "outputs": [],
      "source": [
        "len(train_dataset), len(val_dataset)"
      ]
    },
    {
      "cell_type": "markdown",
      "metadata": {
        "id": "mxFXUVgIXEzd"
      },
      "source": [
        "<a id=\"5.2\"></a>\n",
        "### 5.2 Training using Seq2SeqTrainer"
      ]
    },
    {
      "cell_type": "code",
      "execution_count": null,
      "metadata": {
        "tags": [],
        "id": "SogdNiZkXEzd"
      },
      "outputs": [],
      "source": [
        "# instantiate trainer\n",
        "trainer = Seq2SeqTrainer(\n",
        "    tokenizer=feature_extractor,\n",
        "    model=model,\n",
        "    args=training_args,\n",
        "    train_dataset=train_dataset,\n",
        "    eval_dataset=val_dataset,\n",
        "    data_collator=default_data_collator,\n",
        ")"
      ]
    },
    {
      "cell_type": "code",
      "execution_count": null,
      "metadata": {
        "id": "nJoikmMkXEzd"
      },
      "outputs": [],
      "source": [
        "trainer.train()"
      ]
    },
    {
      "cell_type": "code",
      "execution_count": null,
      "metadata": {
        "_kg_hide-input": true,
        "id": "UrfCQ6kWXEzd"
      },
      "outputs": [],
      "source": [
        "trainer.save_model('VIT_large_gpt2_v2')"
      ]
    },
    {
      "cell_type": "markdown",
      "metadata": {
        "tags": [],
        "id": "s68IEujRXEzd"
      },
      "source": [
        "<a id=\"6\"></a>\n",
        "# 6. PREDICTIONS"
      ]
    },
    {
      "cell_type": "code",
      "execution_count": null,
      "metadata": {
        "id": "hVouIvOwXEze"
      },
      "outputs": [],
      "source": [
        "from transformers import logging\n",
        "logging.set_verbosity_error()"
      ]
    },
    {
      "cell_type": "code",
      "execution_count": null,
      "metadata": {
        "id": "ZujTJFuDXEze"
      },
      "outputs": [],
      "source": [
        "# Load model\n",
        "#loaded_model = VisionEncoderDecoderModel.from_pretrained(\"VIT_large_gpt2_v2\").to(device)\n",
        "loaded_model = VisionEncoderDecoderModel.from_pretrained(\"nlpconnect/vit-gpt2-image-captioning\").to(device)"
      ]
    },
    {
      "cell_type": "code",
      "execution_count": null,
      "metadata": {
        "id": "iyBbW6xAXEze"
      },
      "outputs": [],
      "source": [
        "def show_pred(idx, model):\n",
        "    img_name = train_df.reset_index(drop=True)['image'][idx]\n",
        "    img = Image.open(f\"dataset/Images/{img_name}\").convert(\"RGB\")\n",
        "    generated_caption = tokenizer.decode(model.generate(feature_extractor(img, return_tensors=\"pt\").pixel_values.to(device), max_length=100)[0])\n",
        "\n",
        "    plt.imshow(img)\n",
        "    print(f\"Prediction: {generated_caption}\")\n",
        "    print(f\"Label: {train_df.reset_index(drop=True)['caption'][idx]}\")"
      ]
    },
    {
      "cell_type": "code",
      "execution_count": null,
      "metadata": {
        "id": "9qkL1K0JXEzf"
      },
      "outputs": [],
      "source": [
        "show_pred(10, loaded_model)"
      ]
    },
    {
      "cell_type": "code",
      "source": [],
      "metadata": {
        "id": "OIVFwy9fYYdH"
      },
      "execution_count": null,
      "outputs": []
    }
  ],
  "metadata": {
    "environment": {
      "kernel": "python3",
      "name": "tf2-gpu.2-11.m110",
      "type": "gcloud",
      "uri": "gcr.io/deeplearning-platform-release/tf2-gpu.2-11:m110"
    },
    "kernelspec": {
      "display_name": "Python 3",
      "name": "python3"
    },
    "language_info": {
      "codemirror_mode": {
        "name": "ipython",
        "version": 3
      },
      "file_extension": ".py",
      "mimetype": "text/x-python",
      "name": "python",
      "nbconvert_exporter": "python",
      "pygments_lexer": "ipython3",
      "version": "3.10.12"
    },
    "colab": {
      "provenance": [],
      "gpuType": "T4"
    },
    "accelerator": "GPU"
  },
  "nbformat": 4,
  "nbformat_minor": 0
}